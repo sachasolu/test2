{
  "nbformat": 4,
  "nbformat_minor": 0,
  "metadata": {
    "colab": {
      "provenance": [],
      "authorship_tag": "ABX9TyPsUNqKJ3ax//q8i1+/J36h",
      "include_colab_link": true
    },
    "kernelspec": {
      "name": "python3",
      "display_name": "Python 3"
    },
    "language_info": {
      "name": "python"
    }
  },
  "cells": [
    {
      "cell_type": "markdown",
      "metadata": {
        "id": "view-in-github",
        "colab_type": "text"
      },
      "source": [
        "<a href=\"https://colab.research.google.com/github/sachasolu/test2/blob/main/test2.ipynb\" target=\"_parent\"><img src=\"https://colab.research.google.com/assets/colab-badge.svg\" alt=\"Open In Colab\"/></a>"
      ]
    },
    {
      "cell_type": "code",
      "execution_count": 10,
      "metadata": {
        "id": "veSt-er0psJa",
        "outputId": "644d24cf-fead-4d0f-835e-5e7aa7a9249d",
        "colab": {
          "base_uri": "https://localhost:8080/"
        }
      },
      "outputs": [
        {
          "output_type": "stream",
          "name": "stdout",
          "text": [
            "Entrez un nombre : 81\n",
            "<class 'str'>\n",
            "Voici ce nombre au carré : 6561\n"
          ]
        }
      ],
      "source": [
        "reponse = input(\"Entrez un nombre : \")\n",
        "print(type(reponse))\n",
        "valeur = int(reponse)\n",
        "print(\"Voici ce nombre au carré :\", valeur*valeur)"
      ]
    }
  ]
}