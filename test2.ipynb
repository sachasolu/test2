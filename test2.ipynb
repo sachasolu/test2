{
  "nbformat": 4,
  "nbformat_minor": 0,
  "metadata": {
    "colab": {
      "provenance": [],
      "authorship_tag": "ABX9TyOj6L0s9vZSLYYR8kJjxTGk",
      "include_colab_link": true
    },
    "kernelspec": {
      "name": "python3",
      "display_name": "Python 3"
    },
    "language_info": {
      "name": "python"
    }
  },
  "cells": [
    {
      "cell_type": "markdown",
      "metadata": {
        "id": "view-in-github",
        "colab_type": "text"
      },
      "source": [
        "<a href=\"https://colab.research.google.com/github/sachasolu/test2/blob/main/test2.ipynb\" target=\"_parent\"><img src=\"https://colab.research.google.com/assets/colab-badge.svg\" alt=\"Open In Colab\"/></a>"
      ]
    },
    {
      "cell_type": "code",
      "execution_count": null,
      "metadata": {
        "id": "veSt-er0psJa",
        "outputId": "644d24cf-fead-4d0f-835e-5e7aa7a9249d",
        "colab": {
          "base_uri": "https://localhost:8080/"
        }
      },
      "outputs": [
        {
          "output_type": "stream",
          "name": "stdout",
          "text": [
            "Entrez un nombre : 81\n",
            "<class 'str'>\n",
            "Voici ce nombre au carré : 6561\n"
          ]
        }
      ],
      "source": [
        "reponse = input(\"Entrez un nombre : \")\n",
        "print(type(reponse))\n",
        "valeur = int(reponse)\n",
        "print(\"Voici ce nombre au carré :\", valeur*valeur)"
      ]
    },
    {
      "cell_type": "code",
      "source": [
        "prixHT  = float(input(\"Entrez le prix HT : \"))\n",
        "TVA     = 0.2\n",
        "Taxe    = TVA * prixHT\n",
        "PrixTTC = prixHT + Taxe\n",
        "print(\"Prix TTC : \", PrixTTC)"
      ],
      "metadata": {
        "colab": {
          "base_uri": "https://localhost:8080/"
        },
        "id": "mvdaX4k-rkOL",
        "outputId": "eb840344-57d2-416d-bbf0-4556a8a7e6b5"
      },
      "execution_count": null,
      "outputs": [
        {
          "output_type": "stream",
          "name": "stdout",
          "text": [
            "Entrez le prix HT : 50\n",
            "Prix TTC :  60.0\n"
          ]
        }
      ]
    },
    {
      "cell_type": "code",
      "source": [
        "chr(0x1F63B)"
      ],
      "metadata": {
        "colab": {
          "base_uri": "https://localhost:8080/",
          "height": 35
        },
        "id": "LdXEatWIub4v",
        "outputId": "688a1ed1-ef7a-4da1-80b3-14776d8ca4d0"
      },
      "execution_count": null,
      "outputs": [
        {
          "output_type": "execute_result",
          "data": {
            "text/plain": [
              "'😻'"
            ],
            "application/vnd.google.colaboratory.intrinsic+json": {
              "type": "string"
            }
          },
          "metadata": {},
          "execution_count": 2
        }
      ]
    },
    {
      "cell_type": "code",
      "source": [
        "reponse = input(\"Entrez un mot : \")\n",
        "taille = len(reponse)\n",
        "for i in range (taille) :\n",
        "  inverse = taille - (i+1)\n",
        "  print(reponse[inverse],end='')"
      ],
      "metadata": {
        "colab": {
          "base_uri": "https://localhost:8080/"
        },
        "id": "42HO7T6gE7YL",
        "outputId": "8d2bc3b3-1e3b-465f-c3b5-4f5d6415cb1a"
      },
      "execution_count": 11,
      "outputs": [
        {
          "output_type": "stream",
          "name": "stdout",
          "text": [
            "Entrez un mot : azerty\n",
            "ytreza"
          ]
        }
      ]
    },
    {
      "cell_type": "code",
      "source": [
        "nombre = float(input(\"Entrez un nombre : \"))\n",
        "reponse = 3 * nombre * nombre + 5 * nombre + 1\n",
        "print(\"On calcule 3x² + 5x +1\")\n",
        "print(reponse)"
      ],
      "metadata": {
        "id": "PWWfV-ed8dGi",
        "outputId": "360c9d75-1497-4121-922d-2e2f35664414",
        "colab": {
          "base_uri": "https://localhost:8080/"
        }
      },
      "execution_count": 14,
      "outputs": [
        {
          "output_type": "stream",
          "name": "stdout",
          "text": [
            "Entrez un nombre : 12.5\n",
            "On calcule 3x² + 5x +1\n",
            "532.25\n"
          ]
        }
      ]
    },
    {
      "cell_type": "code",
      "source": [
        "nombre = int(input(\"Entrez un nombre : \"))\n",
        "total = 0\n",
        "for i in range (nombre+1) :\n",
        "  total += i\n",
        "print(total)"
      ],
      "metadata": {
        "id": "Mf_USIcs-R9W",
        "outputId": "4005d6ca-64b5-47ca-aeed-0f3ca97c81db",
        "colab": {
          "base_uri": "https://localhost:8080/"
        }
      },
      "execution_count": 17,
      "outputs": [
        {
          "output_type": "stream",
          "name": "stdout",
          "text": [
            "Entrez un nombre : 50\n",
            "1275\n"
          ]
        }
      ]
    },
    {
      "cell_type": "code",
      "source": [
        "print(\"XX\" + \"0123456789\" * 5)\n",
        "nombre = 1\n",
        "for i in range (50) :\n",
        "  nombre = nombre / 2\n",
        "  txt = \"{:0.50f}\".format(nombre)\n",
        "  print(txt)"
      ],
      "metadata": {
        "id": "YYbfjbc7LZla",
        "outputId": "41a8436d-1bda-462d-bd99-8b77a2291323",
        "colab": {
          "base_uri": "https://localhost:8080/"
        }
      },
      "execution_count": 27,
      "outputs": [
        {
          "output_type": "stream",
          "name": "stdout",
          "text": [
            "XX01234567890123456789012345678901234567890123456789\n",
            "0.50000000000000000000000000000000000000000000000000\n",
            "0.25000000000000000000000000000000000000000000000000\n",
            "0.12500000000000000000000000000000000000000000000000\n",
            "0.06250000000000000000000000000000000000000000000000\n",
            "0.03125000000000000000000000000000000000000000000000\n",
            "0.01562500000000000000000000000000000000000000000000\n",
            "0.00781250000000000000000000000000000000000000000000\n",
            "0.00390625000000000000000000000000000000000000000000\n",
            "0.00195312500000000000000000000000000000000000000000\n",
            "0.00097656250000000000000000000000000000000000000000\n",
            "0.00048828125000000000000000000000000000000000000000\n",
            "0.00024414062500000000000000000000000000000000000000\n",
            "0.00012207031250000000000000000000000000000000000000\n",
            "0.00006103515625000000000000000000000000000000000000\n",
            "0.00003051757812500000000000000000000000000000000000\n",
            "0.00001525878906250000000000000000000000000000000000\n",
            "0.00000762939453125000000000000000000000000000000000\n",
            "0.00000381469726562500000000000000000000000000000000\n",
            "0.00000190734863281250000000000000000000000000000000\n",
            "0.00000095367431640625000000000000000000000000000000\n",
            "0.00000047683715820312500000000000000000000000000000\n",
            "0.00000023841857910156250000000000000000000000000000\n",
            "0.00000011920928955078125000000000000000000000000000\n",
            "0.00000005960464477539062500000000000000000000000000\n",
            "0.00000002980232238769531250000000000000000000000000\n",
            "0.00000001490116119384765625000000000000000000000000\n",
            "0.00000000745058059692382812500000000000000000000000\n",
            "0.00000000372529029846191406250000000000000000000000\n",
            "0.00000000186264514923095703125000000000000000000000\n",
            "0.00000000093132257461547851562500000000000000000000\n",
            "0.00000000046566128730773925781250000000000000000000\n",
            "0.00000000023283064365386962890625000000000000000000\n",
            "0.00000000011641532182693481445312500000000000000000\n",
            "0.00000000005820766091346740722656250000000000000000\n",
            "0.00000000002910383045673370361328125000000000000000\n",
            "0.00000000001455191522836685180664062500000000000000\n",
            "0.00000000000727595761418342590332031250000000000000\n",
            "0.00000000000363797880709171295166015625000000000000\n",
            "0.00000000000181898940354585647583007812500000000000\n",
            "0.00000000000090949470177292823791503906250000000000\n",
            "0.00000000000045474735088646411895751953125000000000\n",
            "0.00000000000022737367544323205947875976562500000000\n",
            "0.00000000000011368683772161602973937988281250000000\n",
            "0.00000000000005684341886080801486968994140625000000\n",
            "0.00000000000002842170943040400743484497070312500000\n",
            "0.00000000000001421085471520200371742248535156250000\n",
            "0.00000000000000710542735760100185871124267578125000\n",
            "0.00000000000000355271367880050092935562133789062500\n",
            "0.00000000000000177635683940025046467781066894531250\n",
            "0.00000000000000088817841970012523233890533447265625\n"
          ]
        }
      ]
    },
    {
      "cell_type": "code",
      "source": [
        "compteur = 0\n",
        "for i in range (10,100) :\n",
        "  dizaine = i // 10\n",
        "  #print(\"dizaine \" + str(dizaine))\n",
        "  unite = i - (dizaine * 10)\n",
        "  #print(unite)\n",
        "  if dizaine == 7 :\n",
        "    compteur += 1\n",
        "    #print(compteur)\n",
        "  else :\n",
        "    if unite == 7 :\n",
        "      compteur += 1\n",
        "print(compteur)"
      ],
      "metadata": {
        "id": "O8KQacm3a1H2",
        "outputId": "5456d7bd-5e60-4505-d433-f933dbe809e6",
        "colab": {
          "base_uri": "https://localhost:8080/"
        }
      },
      "execution_count": 40,
      "outputs": [
        {
          "output_type": "stream",
          "name": "stdout",
          "text": [
            "18\n"
          ]
        }
      ]
    },
    {
      "cell_type": "code",
      "source": [
        "reponse = input(\"Entrez un mot : \")\n",
        "maj = reponse.upper()\n",
        "code = \"\"\n",
        "\n",
        "for i in range (len(maj)) :\n",
        "  uni = ord(maj[i])\n",
        "  if uni < 88 :\n",
        "    uni += 3\n",
        "    code += str(chr(uni))\n",
        "  else :\n",
        "    uni -= 23\n",
        "    code += str(chr(uni))\n",
        "print(code)\n"
      ],
      "metadata": {
        "id": "qBMxSK3SgUG3",
        "outputId": "4397abe6-acd4-4f4b-cacc-e46752033be7",
        "colab": {
          "base_uri": "https://localhost:8080/"
        }
      },
      "execution_count": 52,
      "outputs": [
        {
          "output_type": "stream",
          "name": "stdout",
          "text": [
            "Entrez un mot : Agent bleu\n",
            "DJHQW#EOHX\n"
          ]
        }
      ]
    },
    {
      "cell_type": "code",
      "source": [
        "nombre = int(input(\"Entrez le nombre de jour du mois : \"))\n",
        "jour = int(input(\"Entrez le nombre correspondant au premier jour du mois : \"))\n",
        "colonne = 0\n",
        "\n",
        "txt = \"{0}{1}{2}{3}{4}{5}{6}, \".format(\"LUN\",\"MAR\",\"MER\",\"JEU\",\"VEN\",\"SAM\",\"DIM\")\n",
        "print (txt)\n"
      ],
      "metadata": {
        "id": "55c9JOPWmD1S",
        "outputId": "7de6e474-3e89-4dfb-d64e-1680d42a1475",
        "colab": {
          "base_uri": "https://localhost:8080/"
        }
      },
      "execution_count": 54,
      "outputs": [
        {
          "output_type": "stream",
          "name": "stdout",
          "text": [
            "Entrez le nombre de jour du mois : 50\n",
            "Entrez le nombre correspondant au premier jour du mois : 05\n",
            "LUNMARMERJEUVENSAMDIM\n"
          ]
        }
      ]
    }
  ]
}