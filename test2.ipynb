{
  "nbformat": 4,
  "nbformat_minor": 0,
  "metadata": {
    "colab": {
      "provenance": [],
      "authorship_tag": "ABX9TyOxGqIvihHX07M83LevDWlQ",
      "include_colab_link": true
    },
    "kernelspec": {
      "name": "python3",
      "display_name": "Python 3"
    },
    "language_info": {
      "name": "python"
    }
  },
  "cells": [
    {
      "cell_type": "markdown",
      "metadata": {
        "id": "view-in-github",
        "colab_type": "text"
      },
      "source": [
        "<a href=\"https://colab.research.google.com/github/sachasolu/test2/blob/main/test2.ipynb\" target=\"_parent\"><img src=\"https://colab.research.google.com/assets/colab-badge.svg\" alt=\"Open In Colab\"/></a>"
      ]
    },
    {
      "cell_type": "code",
      "execution_count": null,
      "metadata": {
        "id": "veSt-er0psJa",
        "outputId": "644d24cf-fead-4d0f-835e-5e7aa7a9249d",
        "colab": {
          "base_uri": "https://localhost:8080/"
        }
      },
      "outputs": [
        {
          "output_type": "stream",
          "name": "stdout",
          "text": [
            "Entrez un nombre : 81\n",
            "<class 'str'>\n",
            "Voici ce nombre au carré : 6561\n"
          ]
        }
      ],
      "source": [
        "reponse = input(\"Entrez un nombre : \")\n",
        "print(type(reponse))\n",
        "valeur = int(reponse)\n",
        "print(\"Voici ce nombre au carré :\", valeur*valeur)"
      ]
    },
    {
      "cell_type": "code",
      "source": [
        "prixHT  = float(input(\"Entrez le prix HT : \"))\n",
        "TVA     = 0.2\n",
        "Taxe    = TVA * prixHT\n",
        "PrixTTC = prixHT + Taxe\n",
        "print(\"Prix TTC : \", PrixTTC)"
      ],
      "metadata": {
        "colab": {
          "base_uri": "https://localhost:8080/"
        },
        "id": "mvdaX4k-rkOL",
        "outputId": "eb840344-57d2-416d-bbf0-4556a8a7e6b5"
      },
      "execution_count": 1,
      "outputs": [
        {
          "output_type": "stream",
          "name": "stdout",
          "text": [
            "Entrez le prix HT : 50\n",
            "Prix TTC :  60.0\n"
          ]
        }
      ]
    },
    {
      "cell_type": "code",
      "source": [
        "chr(0x1F63B)"
      ],
      "metadata": {
        "colab": {
          "base_uri": "https://localhost:8080/",
          "height": 35
        },
        "id": "LdXEatWIub4v",
        "outputId": "688a1ed1-ef7a-4da1-80b3-14776d8ca4d0"
      },
      "execution_count": 2,
      "outputs": [
        {
          "output_type": "execute_result",
          "data": {
            "text/plain": [
              "'😻'"
            ],
            "application/vnd.google.colaboratory.intrinsic+json": {
              "type": "string"
            }
          },
          "metadata": {},
          "execution_count": 2
        }
      ]
    }
  ]
}